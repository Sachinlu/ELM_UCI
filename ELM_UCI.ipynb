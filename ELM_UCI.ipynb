{
 "nbformat": 4,
 "nbformat_minor": 0,
 "metadata": {
  "colab": {
   "name": "ELM_uci.ipynb",
   "provenance": [],
   "collapsed_sections": [],
   "authorship_tag": "ABX9TyN6cMbV8M2Jd0iyeNRuSsAC"
  },
  "kernelspec": {
   "name": "python3",
   "display_name": "Python 3"
  },
  "language_info": {
   "name": "python"
  }
 },
 "cells": [
  {
   "cell_type": "markdown",
   "metadata": {
    "id": "Ldx-ZW1YaQ-_"
   },
   "source": [
    "Incremental ELM on Regression Problem"
   ]
  },
  {
   "cell_type": "code",
   "metadata": {
    "id": "XbVlxqLS4vUg",
    "executionInfo": {
     "status": "ok",
     "timestamp": 1633806019383,
     "user_tz": 240,
     "elapsed": 222,
     "user": {
      "displayName": "Sachin Singh",
      "photoUrl": "https://lh3.googleusercontent.com/a-/AOh14GhN6zNU_XCcZXxVNgdmaUDjGHn2j5z2owMDkDPVZA=s64",
      "userId": "17805509135508985434"
     }
    }
   },
   "source": [
    "# Importing the required file for incremental ELM\n",
    "import numpy as np"
   ],
   "execution_count": 2,
   "outputs": []
  },
  {
   "cell_type": "code",
   "metadata": {
    "id": "kodWY-iXZsYB",
    "executionInfo": {
     "status": "ok",
     "timestamp": 1633806020722,
     "user_tz": 240,
     "elapsed": 310,
     "user": {
      "displayName": "Sachin Singh",
      "photoUrl": "https://lh3.googleusercontent.com/a-/AOh14GhN6zNU_XCcZXxVNgdmaUDjGHn2j5z2owMDkDPVZA=s64",
      "userId": "17805509135508985434"
     }
    }
   },
   "source": [
    "# To find out root mean square error of the dataset\n",
    "def r_mean_squared_error(y_actual, y_pred):\n",
    "  return np.sqrt((np.mean((y_actual - y_pred) ** 2)))"
   ],
   "execution_count": 3,
   "outputs": []
  },
  {
   "cell_type": "code",
   "metadata": {
    "id": "tzjfVl1IZ-p3",
    "executionInfo": {
     "status": "ok",
     "timestamp": 1633806021610,
     "user_tz": 240,
     "elapsed": 4,
     "user": {
      "displayName": "Sachin Singh",
      "photoUrl": "https://lh3.googleusercontent.com/a-/AOh14GhN6zNU_XCcZXxVNgdmaUDjGHn2j5z2owMDkDPVZA=s64",
      "userId": "17805509135508985434"
     }
    }
   },
   "source": [
    "# The main incremental ELM class\n",
    "class Incremental_ELM:\n",
    "    def __init__(self, input_nodes, hidden_layer, output_nodes,):\n",
    "      self.input_nodes = input_nodes\n",
    "      self.hidden_layer = 1\n",
    "      self.output_nodes = output_nodes\n",
    "      self.bias = np.zeros(shape=(self.hidden_layer,))\n",
    "      self.weights = np.random.uniform(-1,1,(self.input_nodes,self.hidden_layer))\n",
    "      self.beta = np.random.uniform(-1,1,(hidden_layer,output_nodes))\n",
    "\n",
    "    # The sigmoid activation function\n",
    "    def sigmoid_activation(self, X_input):\n",
    "      return 1. / (1. + np.exp(-X_input))\n",
    "\n",
    "    # The prediction function\n",
    "    def prediction(self, value):\n",
    "          y_value = self.sigmoid_activation(value.dot(self.weights)+self.bias)\n",
    "          return list(y_value.dot(self.beta))\n",
    "          \n",
    "    # The training function\n",
    "    def fit(self, X_input, max_hd, Y_output):\n",
    "      self.weights = np.random.uniform(-1,1,(self.input_nodes,1))\n",
    "      self.beta = np.random.uniform(-1,1,(1,self.output_nodes))\n",
    "\n",
    "      hidden_layer_M = self.sigmoid_activation(X_input.dot(self.weights))\n",
    "      hidden_layer_M_inv = np.linalg.pinv(hidden_layer_M)\n",
    "      self.beta = hidden_layer_M_inv.dot(Y_output)\n",
    "\n",
    "      for i in range(1, max_hd):\n",
    "        h_w = np.random.uniform(-1,1,(self.input_nodes,1))\n",
    "        h_b = np.random.uniform(-1,1,(1, self.output_nodes))\n",
    "        self.weights = np.hstack([self.weights,h_w])\n",
    "        self.beta = np.vstack([self.beta,h_b])\n",
    "\n",
    "        hidden_layer_M = self.sigmoid_activation(X_input.dot(self.weights))\n",
    "        hidden_layer_M_inv = np.linalg.pinv(hidden_layer_M)\n",
    "        self.beta = hidden_layer_M_inv.dot(Y_output)\n",
    "        self.beta = self.beta.reshape(-1,1)\n",
    "\n",
    "\n",
    "      print('Bias shape:', self.bias.shape)\n",
    "      print('Weights shape:', self.weights.shape)\n",
    "      print('Beta shape:', self.beta.shape)"
   ],
   "execution_count": 4,
   "outputs": []
  },
  {
   "cell_type": "code",
   "metadata": {
    "id": "jTUkWewOaON7",
    "executionInfo": {
     "status": "ok",
     "timestamp": 1633806023857,
     "user_tz": 240,
     "elapsed": 732,
     "user": {
      "displayName": "Sachin Singh",
      "photoUrl": "https://lh3.googleusercontent.com/a-/AOh14GhN6zNU_XCcZXxVNgdmaUDjGHn2j5z2owMDkDPVZA=s64",
      "userId": "17805509135508985434"
     }
    }
   },
   "source": [
    "# Loading the dataset and importing libraries\n",
    "from sklearn.model_selection import train_test_split\n",
    "import pandas as pd\n",
    "import time"
   ],
   "execution_count": 5,
   "outputs": []
  },
  {
   "cell_type": "code",
   "metadata": {
    "colab": {
     "base_uri": "https://localhost:8080/"
    },
    "id": "NuNLu4c7aQHe",
    "executionInfo": {
     "status": "ok",
     "timestamp": 1633806841404,
     "user_tz": 240,
     "elapsed": 2253,
     "user": {
      "displayName": "Sachin Singh",
      "photoUrl": "https://lh3.googleusercontent.com/a-/AOh14GhN6zNU_XCcZXxVNgdmaUDjGHn2j5z2owMDkDPVZA=s64",
      "userId": "17805509135508985434"
     }
    },
    "outputId": "26ce9b30-014a-4b05-863e-5b6a5ae6a2d0"
   },
   "source": [
    "# Number of output classes\n",
    "max_hidden_node = 10\n",
    "df = pd.read_excel('/content/Folds5x2_pp.xlsx')\n",
    "X = df[['AT',\t'V',\t'AP',\t'RH']].to_numpy()\n",
    "y = df[['PE']].to_numpy()\n",
    "\n",
    "# splitting data into train and test\n",
    "X_train,X_test,y_train,y_test = train_test_split(X,y,test_size=0.20,random_state=0)\n",
    "X_train = X_train.astype(np.float32)\n",
    "X_test = X_test.astype(np.float32)\n",
    "y_train = y_train.astype(np.float32)\n",
    "y_test = y_test.astype(np.float32)\n",
    "print(X_train.shape)\n",
    "print(y_train.shape)\n",
    "print(X_test.shape)\n",
    "print(y_test.shape)"
   ],
   "execution_count": 14,
   "outputs": [
    {
     "output_type": "stream",
     "name": "stdout",
     "text": [
      "(7654, 4)\n",
      "(7654, 1)\n",
      "(1914, 4)\n",
      "(1914, 1)\n"
     ]
    }
   ]
  },
  {
   "cell_type": "code",
   "metadata": {
    "id": "wbcjyx08eGJE",
    "executionInfo": {
     "status": "ok",
     "timestamp": 1633799932621,
     "user_tz": 240,
     "elapsed": 346,
     "user": {
      "displayName": "Sachin Singh",
      "photoUrl": "https://lh3.googleusercontent.com/a-/AOh14GhN6zNU_XCcZXxVNgdmaUDjGHn2j5z2owMDkDPVZA=s64",
      "userId": "17805509135508985434"
     }
    }
   },
   "source": [
    "# creating a ELM class object model\n",
    "model = Incremental_ELM(input_nodes=4, hidden_layer=max_hidden_node, output_nodes=1)"
   ],
   "execution_count": 124,
   "outputs": []
  },
  {
   "cell_type": "code",
   "metadata": {
    "colab": {
     "base_uri": "https://localhost:8080/"
    },
    "id": "pJvn-CPve-HR",
    "executionInfo": {
     "status": "ok",
     "timestamp": 1633801916343,
     "user_tz": 240,
     "elapsed": 1982490,
     "user": {
      "displayName": "Sachin Singh",
      "photoUrl": "https://lh3.googleusercontent.com/a-/AOh14GhN6zNU_XCcZXxVNgdmaUDjGHn2j5z2owMDkDPVZA=s64",
      "userId": "17805509135508985434"
     }
    },
    "outputId": "2dd1ccba-516e-4bf2-9cfc-f834373b498c"
   },
   "source": [
    "# Training and calulating the rmse.\n",
    "initial_train_record = time.time()\n",
    "model.fit(X_train, max_hidden_node, y_train)\n",
    "final_train_record = time.time()\n",
    "train_pred = model.prediction(X_train)\n",
    "error_train = r_mean_squared_error(y_train, train_pred)\n",
    "\n",
    "print(f\"<-----------Training Error and Time----------->\\n\")\n",
    "print(f\"Root mean squared Error of UCI regression Train Dataset : {error_train}\")\n",
    "print(f\"model is approximating the training data by {100 - error_train} %\")\n",
    "print(f\"Train Time of UCI regression dataset : {final_train_record-initial_train_record} seconds\")"
   ],
   "execution_count": 125,
   "outputs": [
    {
     "output_type": "stream",
     "name": "stderr",
     "text": [
      "/usr/local/lib/python3.7/dist-packages/ipykernel_launcher.py:13: RuntimeWarning: overflow encountered in exp\n",
      "  del sys.path[0]\n"
     ]
    },
    {
     "output_type": "stream",
     "name": "stdout",
     "text": [
      "Bias shape: (1,)\n",
      "Weights shape: (4, 1000)\n",
      "Beta shape: (1000, 1)\n",
      "<-----------Training Error and Time----------->\n",
      "\n",
      "Root mean squared Error of UCI regression Train Dataset : 5.557926971943079\n",
      "model is approximating the training data by 94.44207302805692 %\n",
      "Train Time of UCI regression dataset : 1982.012342453003 seconds\n"
     ]
    }
   ]
  },
  {
   "cell_type": "code",
   "metadata": {
    "colab": {
     "base_uri": "https://localhost:8080/"
    },
    "id": "TdaCDW4af9Z1",
    "executionInfo": {
     "status": "ok",
     "timestamp": 1633799912599,
     "user_tz": 240,
     "elapsed": 344,
     "user": {
      "displayName": "Sachin Singh",
      "photoUrl": "https://lh3.googleusercontent.com/a-/AOh14GhN6zNU_XCcZXxVNgdmaUDjGHn2j5z2owMDkDPVZA=s64",
      "userId": "17805509135508985434"
     }
    },
    "outputId": "ecc93ac2-b46c-40c9-fd9d-beecebbacf15"
   },
   "source": [
    "# Predicting and Calculating the rmse.\n",
    "initial_test_record = time.time()\n",
    "test_pred = model.prediction(X_test)\n",
    "final_test_record = time.time()\n",
    "error_test = r_mean_squared_error(y_test, test_pred)\n",
    "\n",
    "print(f\"<-----------Testing Error and Time----------->\\n\")\n",
    "print(f\"Root mean squared Error of UCI regression Dataset : {error_test}\")\n",
    "print(f\"model is approximating the testing data by {100 - error_train} %\")\n",
    "print(f\"Test Time of UCI regression Dataset : {final_test_record-initial_test_record} seconds\")"
   ],
   "execution_count": 122,
   "outputs": [
    {
     "output_type": "stream",
     "name": "stdout",
     "text": [
      "<-----------Testing Error and Time----------->\n",
      "\n",
      "Root mean squared Error of UCI regression Dataset : 5.306303974831029\n",
      "model is approximating the testing data by 94.60625186701958 %\n",
      "Test Time of UCI regression Dataset : 0.06300115585327148 seconds\n"
     ]
    },
    {
     "output_type": "stream",
     "name": "stderr",
     "text": [
      "/usr/local/lib/python3.7/dist-packages/ipykernel_launcher.py:13: RuntimeWarning: overflow encountered in exp\n",
      "  del sys.path[0]\n"
     ]
    }
   ]
  }
 ]
}